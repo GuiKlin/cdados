{
 "cells": [
  {
   "cell_type": "markdown",
   "metadata": {},
   "source": [
    "# Projeto 1 - Ciência dos Dados"
   ]
  },
  {
   "cell_type": "markdown",
   "metadata": {},
   "source": [
    "Nome: _f____\n",
    "\n",
    "Nome: _____"
   ]
  },
  {
   "cell_type": "markdown",
   "metadata": {},
   "source": [
    "Atenção: Serão permitidos grupos de três pessoas, mas com uma rubrica mais exigente. Grupos deste tamanho precisarão fazer um questionário de avaliação de trabalho em equipe"
   ]
  },
  {
   "cell_type": "markdown",
   "metadata": {},
   "source": [
    "___\n",
    "Carregando algumas bibliotecas:"
   ]
  },
  {
   "cell_type": "code",
   "execution_count": 1,
   "metadata": {},
   "outputs": [],
   "source": [
    "%matplotlib inline\n",
    "import pandas as pd\n",
    "import matplotlib.pyplot as plt\n",
    "import numpy as np\n",
    "import os\n",
    "import re\n",
    "from math import *\n",
    "import warnings\n",
    "warnings.filterwarnings('ignore')"
   ]
  },
  {
   "cell_type": "code",
   "execution_count": 2,
   "metadata": {
    "scrolled": false
   },
   "outputs": [
    {
     "name": "stdout",
     "output_type": "stream",
     "text": [
      "Não achei ps4.xlsx aqui no diretório C:\\Users\\guiig\\OneDrive\\Documentos\\C DADOS\\cdados\n"
     ]
    }
   ],
   "source": [
    "filename = 'ps4.xlsx'\n",
    "if filename in os.listdir():\n",
    "    print(f'Achei {filename}, tudo certo')\n",
    "else:\n",
    "    print(f'Não achei {filename} aqui no diretório {os.getcwd()}')"
   ]
  },
  {
   "cell_type": "markdown",
   "metadata": {},
   "source": [
    "Carregando a base de dados com os tweets classificados como relevantes e não relevantes:"
   ]
  },
  {
   "cell_type": "code",
   "execution_count": 3,
   "metadata": {},
   "outputs": [],
   "source": [
    "filename = 'Heineken.xlsx'"
   ]
  },
  {
   "cell_type": "code",
   "execution_count": 4,
   "metadata": {},
   "outputs": [
    {
     "data": {
      "text/html": [
       "<div>\n",
       "<style scoped>\n",
       "    .dataframe tbody tr th:only-of-type {\n",
       "        vertical-align: middle;\n",
       "    }\n",
       "\n",
       "    .dataframe tbody tr th {\n",
       "        vertical-align: top;\n",
       "    }\n",
       "\n",
       "    .dataframe thead th {\n",
       "        text-align: right;\n",
       "    }\n",
       "</style>\n",
       "<table border=\"1\" class=\"dataframe\">\n",
       "  <thead>\n",
       "    <tr style=\"text-align: right;\">\n",
       "      <th></th>\n",
       "      <th>Treinamento</th>\n",
       "      <th>Relevância</th>\n",
       "    </tr>\n",
       "  </thead>\n",
       "  <tbody>\n",
       "    <tr>\n",
       "      <th>0</th>\n",
       "      <td>o certo hoje é ir beber, @lukinhaswin da a cas...</td>\n",
       "      <td>1</td>\n",
       "    </tr>\n",
       "    <tr>\n",
       "      <th>1</th>\n",
       "      <td>@cervejapetra \\ngostava, agora não mais\\n@cerv...</td>\n",
       "      <td>1</td>\n",
       "    </tr>\n",
       "    <tr>\n",
       "      <th>2</th>\n",
       "      <td>@honoratovieira_ nem na zona sul do rio é 20 c...</td>\n",
       "      <td>0</td>\n",
       "    </tr>\n",
       "    <tr>\n",
       "      <th>3</th>\n",
       "      <td>yussif já me mandou msg avisando q quando cheg...</td>\n",
       "      <td>4</td>\n",
       "    </tr>\n",
       "    <tr>\n",
       "      <th>4</th>\n",
       "      <td>este usuário esta a fim de beber uma heineken ...</td>\n",
       "      <td>4</td>\n",
       "    </tr>\n",
       "  </tbody>\n",
       "</table>\n",
       "</div>"
      ],
      "text/plain": [
       "                                         Treinamento  Relevância\n",
       "0  o certo hoje é ir beber, @lukinhaswin da a cas...           1\n",
       "1  @cervejapetra \\ngostava, agora não mais\\n@cerv...           1\n",
       "2  @honoratovieira_ nem na zona sul do rio é 20 c...           0\n",
       "3  yussif já me mandou msg avisando q quando cheg...           4\n",
       "4  este usuário esta a fim de beber uma heineken ...           4"
      ]
     },
     "execution_count": 4,
     "metadata": {},
     "output_type": "execute_result"
    }
   ],
   "source": [
    "train = pd.read_excel(filename)\n",
    "train.head(5)"
   ]
  },
  {
   "cell_type": "code",
   "execution_count": 5,
   "metadata": {},
   "outputs": [
    {
     "data": {
      "text/html": [
       "<div>\n",
       "<style scoped>\n",
       "    .dataframe tbody tr th:only-of-type {\n",
       "        vertical-align: middle;\n",
       "    }\n",
       "\n",
       "    .dataframe tbody tr th {\n",
       "        vertical-align: top;\n",
       "    }\n",
       "\n",
       "    .dataframe thead th {\n",
       "        text-align: right;\n",
       "    }\n",
       "</style>\n",
       "<table border=\"1\" class=\"dataframe\">\n",
       "  <thead>\n",
       "    <tr style=\"text-align: right;\">\n",
       "      <th></th>\n",
       "      <th>Teste</th>\n",
       "      <th>Relevância</th>\n",
       "    </tr>\n",
       "  </thead>\n",
       "  <tbody>\n",
       "    <tr>\n",
       "      <th>0</th>\n",
       "      <td>@heineken_bxxr amei vamo</td>\n",
       "      <td>4</td>\n",
       "    </tr>\n",
       "    <tr>\n",
       "      <th>1</th>\n",
       "      <td>indireta direta pro meu melhor amigo, que me a...</td>\n",
       "      <td>0</td>\n",
       "    </tr>\n",
       "    <tr>\n",
       "      <th>2</th>\n",
       "      <td>@lelexiabusada odeio heineken por isso</td>\n",
       "      <td>0</td>\n",
       "    </tr>\n",
       "    <tr>\n",
       "      <th>3</th>\n",
       "      <td>chegar em casa e beber umas heineken com minha...</td>\n",
       "      <td>3</td>\n",
       "    </tr>\n",
       "    <tr>\n",
       "      <th>4</th>\n",
       "      <td>essa historinha de heineken viu</td>\n",
       "      <td>2</td>\n",
       "    </tr>\n",
       "  </tbody>\n",
       "</table>\n",
       "</div>"
      ],
      "text/plain": [
       "                                               Teste  Relevância\n",
       "0                           @heineken_bxxr amei vamo           4\n",
       "1  indireta direta pro meu melhor amigo, que me a...           0\n",
       "2             @lelexiabusada odeio heineken por isso           0\n",
       "3  chegar em casa e beber umas heineken com minha...           3\n",
       "4                    essa historinha de heineken viu           2"
      ]
     },
     "execution_count": 5,
     "metadata": {},
     "output_type": "execute_result"
    }
   ],
   "source": [
    "test = pd.read_excel(filename, sheet_name = 'Teste')\n",
    "test.head(5)"
   ]
  },
  {
   "cell_type": "code",
   "execution_count": 6,
   "metadata": {},
   "outputs": [],
   "source": [
    "train['Treinamento'] = train['Treinamento'].astype('str')"
   ]
  },
  {
   "cell_type": "markdown",
   "metadata": {},
   "source": [
    "___\n",
    "## Classificador automático de sentimento\n"
   ]
  },
  {
   "cell_type": "markdown",
   "metadata": {},
   "source": [
    "Faça aqui uma descrição do seu produto e o que considerou como relevante ou não relevante na classificação dos tweets.\n",
    "\n",
    "ESCREVA AQUI...\n",
    "Heineken é uma cerveja, muito popular no Brasil\n",
    "palavras relevantes:\n",
    "trincando, não da ressaca, bom, saudades, geladinha\n",
    "palavras não relevantes:\n",
    "ruim, caro, merda "
   ]
  },
  {
   "cell_type": "markdown",
   "metadata": {},
   "source": [
    "___\n",
    "### Montando um Classificador Naive-Bayes\n",
    "\n",
    "Considerando apenas as mensagens da planilha Treinamento, ensine  seu classificador."
   ]
  },
  {
   "cell_type": "code",
   "execution_count": 7,
   "metadata": {},
   "outputs": [],
   "source": [
    "def cleanup(text):\n",
    "    punctuation = '[!-.:?;\"\\n\"()''\"\",_%$\\|/,<>]' \n",
    "    pattern = re.compile(punctuation)\n",
    "    text_subbed = re.sub(pattern, '', text)\n",
    "    filtro = filter(lambda x:x[0]!='@', text_subbed.split())\n",
    "    new = \" \".join(filter(lambda x:x[0]!='@', text_subbed.split()))\n",
    "    return new\n",
    "train['Treinamento'] = train['Treinamento'].apply(cleanup).str.lower()"
   ]
  },
  {
   "cell_type": "code",
   "execution_count": 8,
   "metadata": {},
   "outputs": [],
   "source": [
    "train['Relevância'] = train['Relevância'].astype('category')\n",
    "train['Relevância'].cat.categories = ['Muito irrelevante', 'Irrelevante', 'Neutro', 'Relevante', 'Muito relevante']"
   ]
  },
  {
   "cell_type": "code",
   "execution_count": 9,
   "metadata": {},
   "outputs": [],
   "source": [
    "#codigo de filtro\n",
    "muito_relevante = train['Relevância'] == 'Muito relevante'\n",
    "relevante = train['Relevância'] == 'Relevante'\n",
    "neutro = train['Relevância'] == 'Neutro'\n",
    "irrelevante = train['Relevância'] == 'Irrelevante'\n",
    "muito_irrelevante = train['Relevância'] == 'Muito irrelevante'\n",
    "#df dos filtros\n",
    "df_muito_relevante = train.loc[muito_relevante, :]\n",
    "df_relevante = train.loc[relevante, :]\n",
    "df_neutro = train.loc[neutro, :]\n",
    "df_irrelevante = train.loc[irrelevante, :]\n",
    "df_muito_irrelevante = train.loc[muito_irrelevante, :]\n",
    "tudo=[df_muito_relevante['Treinamento'],df_relevante['Treinamento'],df_neutro['Treinamento'],df_irrelevante['Treinamento'],df_muito_irrelevante['Treinamento']]"
   ]
  },
  {
   "cell_type": "code",
   "execution_count": 10,
   "metadata": {},
   "outputs": [],
   "source": [
    "#código que tranforma df em pd.series\n",
    "tweets_muito_rel = []\n",
    "tweets_rel = []\n",
    "tweets_neu = []\n",
    "tweets_irr = []\n",
    "tweets_muito_irr = []\n",
    "tudo2=[tweets_muito_rel,tweets_rel,tweets_neu,tweets_irr,tweets_muito_irr]\n",
    "Todo= []\n",
    "Mundo = []\n",
    "Odeia = []\n",
    "O= []\n",
    "Chris = []\n",
    "tudo3=[Todo,Mundo,Odeia,O,Chris]\n",
    "i=0\n",
    "while i<len(tudo):\n",
    "    for a in tudo[i]:\n",
    "        tudo2[i].append(a.split(' '))\n",
    "    i+=1\n",
    "ded=0\n",
    "while ded<len(tudo2):\n",
    "    for Eduzin in tudo2[ded]:\n",
    "         tudo3[ded]+= Eduzin\n",
    "    ded+=1\n",
    "\n",
    "serie_muito_relevante=pd.Series(Todo)\n",
    "serie_relevante=pd.Series(Mundo)\n",
    "serie_neutro=pd.Series(Odeia)\n",
    "serie_irrelevante=pd.Series(O)\n",
    "serie_muito_irrelevante=pd.Series(Chris)"
   ]
  },
  {
   "cell_type": "code",
   "execution_count": 11,
   "metadata": {},
   "outputs": [],
   "source": [
    "#utilizamos a variante Laplace Smoothing (alpha = 1)\n",
    "alpha = 1\n",
    "\n",
    "v= 1e3"
   ]
  },
  {
   "cell_type": "code",
   "execution_count": 12,
   "metadata": {},
   "outputs": [],
   "source": [
    "freq_ab_mr = serie_muito_relevante.value_counts() \n",
    "freq_re_mr = (freq_ab_mr + alpha)/(freq_ab_mr.sum() + (alpha*v))\n",
    "\n",
    "freq_ab_r = serie_relevante.value_counts() \n",
    "freq_re_r = (freq_ab_r + alpha)/(freq_ab_r.sum() + (alpha*v))\n",
    "\n",
    "freq_ab_n = serie_neutro.value_counts() \n",
    "freq_re_n = (freq_ab_n + alpha)/(freq_ab_n.sum() + (alpha*v))\n",
    "\n",
    "freq_ab_i = serie_irrelevante.value_counts() \n",
    "freq_re_i = (freq_ab_i + alpha)/(freq_ab_i.sum() + (alpha*v)) \n",
    "\n",
    "freq_ab_mi = serie_muito_irrelevante.value_counts() \n",
    "freq_re_mi = (freq_ab_mi + alpha)/(freq_ab_mi.sum() + (alpha*v))\n",
    "tudo3=[freq_ab_mr,freq_ab_r,freq_ab_n,freq_ab_i,freq_ab_mi]\n",
    "tudo4=[freq_re_mr,freq_re_r,freq_re_n,freq_re_i,freq_re_mi]"
   ]
  },
  {
   "cell_type": "code",
   "execution_count": 13,
   "metadata": {},
   "outputs": [],
   "source": [
    "p_mr = len(tweets_muito_rel) / len(train[\"Treinamento\"])\n",
    "p_r = len(tweets_rel) / len(train[\"Treinamento\"])\n",
    "p_n = len(tweets_neu) / len(train[\"Treinamento\"])\n",
    "p_i = len(tweets_irr) / len(train[\"Treinamento\"])\n",
    "p_mi = len(tweets_muito_irr) / len(train[\"Treinamento\"])\n",
    "tudo5=[p_mr,p_r,p_n,p_i,p_mi]"
   ]
  },
  {
   "cell_type": "code",
   "execution_count": 14,
   "metadata": {},
   "outputs": [],
   "source": [
    "def funça(frase):\n",
    "    frase = frase.split(' ')\n",
    "    prob_frase_dado_mr = 1\n",
    "    prob_frase_dado_r = 1\n",
    "    prob_frase_dado_n = 1\n",
    "    prob_frase_dado_i = 1\n",
    "    prob_frase_dado_mi = 1\n",
    "    tudo6=[prob_frase_dado_mr,prob_frase_dado_r,prob_frase_dado_n,prob_frase_dado_i,prob_frase_dado_mi]\n",
    "    \n",
    "    prob_mr_dado_frase = 1\n",
    "    prob_r_dado_frase = 1\n",
    "    prob_n_dado_frase = 1\n",
    "    prob_i_dado_frase = 1\n",
    "    prob_mi_dado_frase = 1\n",
    "    tudo8=[prob_mr_dado_frase,prob_r_dado_frase,prob_n_dado_frase,prob_i_dado_frase,prob_mi_dado_frase]\n",
    "    \n",
    "    tudo9=['Muito relevante','Relevante','Neutro','Irrelevante','Muito irrelevante']\n",
    "    \n",
    "    for palavra in frase:\n",
    "        for a in range(5):\n",
    "            if palavra in tudo4[a]:\n",
    "                tudo6[a] *= tudo4[a][palavra]\n",
    "            elif palavra not in tudo4[a]:\n",
    "                tudo6[a] *= (alpha/(tudo3[a].sum() + (alpha*v)))\n",
    "    for a in range(5):\n",
    "        tudo8[a]=(tudo6[a])*(tudo5[a])\n",
    "    for b in range(5):\n",
    "        if max(log(tudo8[0], 10), log(tudo8[1], 10), log(tudo8[2], 10), log(tudo8[3], 10),  log(tudo8[4], 10)) == log(tudo8[b], 10):\n",
    "            return tudo9[b]"
   ]
  },
  {
   "cell_type": "code",
   "execution_count": 15,
   "metadata": {},
   "outputs": [
    {
     "data": {
      "text/plain": [
       "0            Irrelevante\n",
       "1                 Neutro\n",
       "2      Muito irrelevante\n",
       "3        Muito relevante\n",
       "4        Muito relevante\n",
       "             ...        \n",
       "744            Relevante\n",
       "745            Relevante\n",
       "746      Muito relevante\n",
       "747            Relevante\n",
       "748               Neutro\n",
       "Name: Classificacao, Length: 749, dtype: object"
      ]
     },
     "execution_count": 15,
     "metadata": {},
     "output_type": "execute_result"
    }
   ],
   "source": [
    "train['Classificacao'] = train['Treinamento'].apply(funça)\n",
    "train['Classificacao']"
   ]
  },
  {
   "cell_type": "code",
   "execution_count": 16,
   "metadata": {},
   "outputs": [
    {
     "data": {
      "text/html": [
       "<div>\n",
       "<style scoped>\n",
       "    .dataframe tbody tr th:only-of-type {\n",
       "        vertical-align: middle;\n",
       "    }\n",
       "\n",
       "    .dataframe tbody tr th {\n",
       "        vertical-align: top;\n",
       "    }\n",
       "\n",
       "    .dataframe thead th {\n",
       "        text-align: right;\n",
       "    }\n",
       "</style>\n",
       "<table border=\"1\" class=\"dataframe\">\n",
       "  <thead>\n",
       "    <tr style=\"text-align: right;\">\n",
       "      <th>Classificacao</th>\n",
       "      <th>Irrelevante</th>\n",
       "      <th>Muito irrelevante</th>\n",
       "      <th>Muito relevante</th>\n",
       "      <th>Neutro</th>\n",
       "      <th>Relevante</th>\n",
       "    </tr>\n",
       "    <tr>\n",
       "      <th>Relevância</th>\n",
       "      <th></th>\n",
       "      <th></th>\n",
       "      <th></th>\n",
       "      <th></th>\n",
       "      <th></th>\n",
       "    </tr>\n",
       "  </thead>\n",
       "  <tbody>\n",
       "    <tr>\n",
       "      <th>Muito irrelevante</th>\n",
       "      <td>0.001335</td>\n",
       "      <td>0.137517</td>\n",
       "      <td>0.010681</td>\n",
       "      <td>0.004005</td>\n",
       "      <td>0.005340</td>\n",
       "    </tr>\n",
       "    <tr>\n",
       "      <th>Irrelevante</th>\n",
       "      <td>0.037383</td>\n",
       "      <td>0.001335</td>\n",
       "      <td>0.004005</td>\n",
       "      <td>0.006676</td>\n",
       "      <td>0.004005</td>\n",
       "    </tr>\n",
       "    <tr>\n",
       "      <th>Neutro</th>\n",
       "      <td>0.000000</td>\n",
       "      <td>0.001335</td>\n",
       "      <td>0.013351</td>\n",
       "      <td>0.122830</td>\n",
       "      <td>0.006676</td>\n",
       "    </tr>\n",
       "    <tr>\n",
       "      <th>Relevante</th>\n",
       "      <td>0.001335</td>\n",
       "      <td>0.001335</td>\n",
       "      <td>0.028037</td>\n",
       "      <td>0.005340</td>\n",
       "      <td>0.201602</td>\n",
       "    </tr>\n",
       "    <tr>\n",
       "      <th>Muito relevante</th>\n",
       "      <td>0.002670</td>\n",
       "      <td>0.001335</td>\n",
       "      <td>0.388518</td>\n",
       "      <td>0.001335</td>\n",
       "      <td>0.012016</td>\n",
       "    </tr>\n",
       "  </tbody>\n",
       "</table>\n",
       "</div>"
      ],
      "text/plain": [
       "Classificacao      Irrelevante  Muito irrelevante  Muito relevante    Neutro  \\\n",
       "Relevância                                                                     \n",
       "Muito irrelevante     0.001335           0.137517         0.010681  0.004005   \n",
       "Irrelevante           0.037383           0.001335         0.004005  0.006676   \n",
       "Neutro                0.000000           0.001335         0.013351  0.122830   \n",
       "Relevante             0.001335           0.001335         0.028037  0.005340   \n",
       "Muito relevante       0.002670           0.001335         0.388518  0.001335   \n",
       "\n",
       "Classificacao      Relevante  \n",
       "Relevância                    \n",
       "Muito irrelevante   0.005340  \n",
       "Irrelevante         0.004005  \n",
       "Neutro              0.006676  \n",
       "Relevante           0.201602  \n",
       "Muito relevante     0.012016  "
      ]
     },
     "execution_count": 16,
     "metadata": {},
     "output_type": "execute_result"
    }
   ],
   "source": [
    "tabela = pd.crosstab(train['Relevância'], train['Classificacao'], normalize='all')\n",
    "tabela"
   ]
  },
  {
   "cell_type": "code",
   "execution_count": 17,
   "metadata": {},
   "outputs": [
    {
     "data": {
      "text/plain": [
       "'88.785%'"
      ]
     },
     "execution_count": 17,
     "metadata": {},
     "output_type": "execute_result"
    }
   ],
   "source": [
    "#quanto o classificador acertou?\n",
    "f'{(tabela.iloc[0,1] + tabela.iloc[1,0] + tabela.iloc[2,3] + tabela.iloc[3,4] + tabela.iloc[4,2])*100:.5g}%'"
   ]
  },
  {
   "cell_type": "markdown",
   "metadata": {},
   "source": [
    "___\n",
    "### Verificando a performance do Classificador\n",
    "\n",
    "Agora você deve testar o seu classificador com a base de Testes."
   ]
  },
  {
   "cell_type": "code",
   "execution_count": 18,
   "metadata": {},
   "outputs": [],
   "source": [
    "teste = pd.read_excel(filename, sheet_name = 'Teste')\n",
    "teste['Teste'] = teste['Teste'].astype('str')\n",
    "test['Teste'] = teste['Teste'].apply(cleanup).str.lower()"
   ]
  },
  {
   "cell_type": "code",
   "execution_count": 19,
   "metadata": {},
   "outputs": [],
   "source": [
    "teste['Relevância'] = teste['Relevância'].astype('category')\n",
    "teste['Relevância'].cat.categories = ['Muito irrelevante', 'Irrelevante', 'Neutro', 'Relevante', 'Muito relevante']\n",
    "teste['Classificador'] = teste['Teste'].apply(funça)"
   ]
  },
  {
   "cell_type": "code",
   "execution_count": 20,
   "metadata": {},
   "outputs": [
    {
     "data": {
      "text/html": [
       "<div>\n",
       "<style scoped>\n",
       "    .dataframe tbody tr th:only-of-type {\n",
       "        vertical-align: middle;\n",
       "    }\n",
       "\n",
       "    .dataframe tbody tr th {\n",
       "        vertical-align: top;\n",
       "    }\n",
       "\n",
       "    .dataframe thead th {\n",
       "        text-align: right;\n",
       "    }\n",
       "</style>\n",
       "<table border=\"1\" class=\"dataframe\">\n",
       "  <thead>\n",
       "    <tr style=\"text-align: right;\">\n",
       "      <th>Classificador</th>\n",
       "      <th>Irrelevante</th>\n",
       "      <th>Muito irrelevante</th>\n",
       "      <th>Muito relevante</th>\n",
       "      <th>Neutro</th>\n",
       "      <th>Relevante</th>\n",
       "    </tr>\n",
       "    <tr>\n",
       "      <th>Relevância</th>\n",
       "      <th></th>\n",
       "      <th></th>\n",
       "      <th></th>\n",
       "      <th></th>\n",
       "      <th></th>\n",
       "    </tr>\n",
       "  </thead>\n",
       "  <tbody>\n",
       "    <tr>\n",
       "      <th>Muito irrelevante</th>\n",
       "      <td>0.068</td>\n",
       "      <td>0.076</td>\n",
       "      <td>0.036</td>\n",
       "      <td>0.056</td>\n",
       "      <td>0.036</td>\n",
       "    </tr>\n",
       "    <tr>\n",
       "      <th>Irrelevante</th>\n",
       "      <td>0.020</td>\n",
       "      <td>0.028</td>\n",
       "      <td>0.020</td>\n",
       "      <td>0.028</td>\n",
       "      <td>0.024</td>\n",
       "    </tr>\n",
       "    <tr>\n",
       "      <th>Neutro</th>\n",
       "      <td>0.040</td>\n",
       "      <td>0.036</td>\n",
       "      <td>0.080</td>\n",
       "      <td>0.012</td>\n",
       "      <td>0.032</td>\n",
       "    </tr>\n",
       "    <tr>\n",
       "      <th>Relevante</th>\n",
       "      <td>0.036</td>\n",
       "      <td>0.012</td>\n",
       "      <td>0.096</td>\n",
       "      <td>0.028</td>\n",
       "      <td>0.056</td>\n",
       "    </tr>\n",
       "    <tr>\n",
       "      <th>Muito relevante</th>\n",
       "      <td>0.020</td>\n",
       "      <td>0.012</td>\n",
       "      <td>0.108</td>\n",
       "      <td>0.016</td>\n",
       "      <td>0.024</td>\n",
       "    </tr>\n",
       "  </tbody>\n",
       "</table>\n",
       "</div>"
      ],
      "text/plain": [
       "Classificador      Irrelevante  Muito irrelevante  Muito relevante  Neutro  \\\n",
       "Relevância                                                                   \n",
       "Muito irrelevante        0.068              0.076            0.036   0.056   \n",
       "Irrelevante              0.020              0.028            0.020   0.028   \n",
       "Neutro                   0.040              0.036            0.080   0.012   \n",
       "Relevante                0.036              0.012            0.096   0.028   \n",
       "Muito relevante          0.020              0.012            0.108   0.016   \n",
       "\n",
       "Classificador      Relevante  \n",
       "Relevância                    \n",
       "Muito irrelevante      0.036  \n",
       "Irrelevante            0.024  \n",
       "Neutro                 0.032  \n",
       "Relevante              0.056  \n",
       "Muito relevante        0.024  "
      ]
     },
     "execution_count": 20,
     "metadata": {},
     "output_type": "execute_result"
    }
   ],
   "source": [
    "tabela2 = pd.crosstab(teste['Relevância'], teste['Classificador'], normalize='all')\n",
    "tabela2"
   ]
  },
  {
   "cell_type": "code",
   "execution_count": 21,
   "metadata": {},
   "outputs": [
    {
     "data": {
      "text/plain": [
       "'O acerto do nosso classificador foi de: 27.2%'"
      ]
     },
     "execution_count": 21,
     "metadata": {},
     "output_type": "execute_result"
    }
   ],
   "source": [
    "f'O acerto do nosso classificador foi de: {(tabela2.iloc[0,1]+tabela2.iloc[1,0]+tabela2.iloc[2,3]+tabela2.iloc[3,4]+tabela2.iloc[4,2])*100:.5g}%'"
   ]
  },
  {
   "cell_type": "markdown",
   "metadata": {},
   "source": [
    "___\n",
    "### Concluindo"
   ]
  },
  {
   "cell_type": "code",
   "execution_count": null,
   "metadata": {},
   "outputs": [],
   "source": []
  },
  {
   "cell_type": "code",
   "execution_count": null,
   "metadata": {},
   "outputs": [],
   "source": []
  },
  {
   "cell_type": "code",
   "execution_count": null,
   "metadata": {},
   "outputs": [],
   "source": []
  },
  {
   "cell_type": "markdown",
   "metadata": {},
   "source": [
    "___\n",
    "### Qualidade do Classificador a partir de novas separações dos tweets entre Treinamento e Teste\n",
    "\n",
    "Caso for fazer esse item do Projeto"
   ]
  },
  {
   "cell_type": "code",
   "execution_count": null,
   "metadata": {},
   "outputs": [],
   "source": []
  },
  {
   "cell_type": "code",
   "execution_count": null,
   "metadata": {},
   "outputs": [],
   "source": []
  },
  {
   "cell_type": "code",
   "execution_count": null,
   "metadata": {},
   "outputs": [],
   "source": []
  },
  {
   "cell_type": "markdown",
   "metadata": {},
   "source": [
    "___\n",
    "## Aperfeiçoamento:\n",
    "\n",
    "Trabalhos que conseguirem pelo menos conceito B vão evoluir em conceito dependendo da quantidade de itens avançados:\n",
    "\n",
    "* IMPLEMENTOU outras limpezas e transformações que não afetem a qualidade da informação contida nos tweets. Ex: stemming, lemmatization, stopwords\n",
    "* CORRIGIU separação de espaços entre palavras e emojis ou entre emojis e emojis\n",
    "* CRIOU categorias intermediárias de relevância baseadas na probabilidade: ex.: muito relevante, relevante, neutro, irrelevante, muito irrelevante. Pelo menos quatro categorias, com adição de mais tweets na base, conforme enunciado. (OBRIGATÓRIO PARA TRIOS, sem contar como item avançado)\n",
    "* EXPLICOU porquê não pode usar o próprio classificador para gerar mais amostras de treinamento\n",
    "* PROPÔS diferentes cenários para Naïve Bayes fora do contexto do projeto\n",
    "* SUGERIU e EXPLICOU melhorias reais com indicações concretas de como implementar (indicar como fazer e indicar material de pesquisa)\n",
    "* FEZ o item 6. Qualidade do Classificador a partir de novas separações dos tweets entre Treinamento e Teste descrito no enunciado do projeto (OBRIGATÓRIO para conceitos A ou A+)"
   ]
  },
  {
   "cell_type": "markdown",
   "metadata": {},
   "source": [
    "___\n",
    "## Referências"
   ]
  },
  {
   "cell_type": "markdown",
   "metadata": {},
   "source": [
    "[Naive Bayes and Text Classification](https://arxiv.org/pdf/1410.5329.pdf)  **Mais completo**\n",
    "\n",
    "[A practical explanation of a Naive Bayes Classifier](https://monkeylearn.com/blog/practical-explanation-naive-bayes-classifier/) **Mais simples**"
   ]
  },
  {
   "cell_type": "code",
   "execution_count": null,
   "metadata": {},
   "outputs": [],
   "source": []
  }
 ],
 "metadata": {
  "kernelspec": {
   "display_name": "Python 3",
   "language": "python",
   "name": "python3"
  },
  "language_info": {
   "codemirror_mode": {
    "name": "ipython",
    "version": 3
   },
   "file_extension": ".py",
   "mimetype": "text/x-python",
   "name": "python",
   "nbconvert_exporter": "python",
   "pygments_lexer": "ipython3",
   "version": "3.8.5"
  }
 },
 "nbformat": 4,
 "nbformat_minor": 4
}
