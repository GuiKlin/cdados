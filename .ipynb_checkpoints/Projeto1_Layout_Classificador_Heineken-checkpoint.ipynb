{
 "cells": [
  {
   "cell_type": "markdown",
   "metadata": {},
   "source": [
    "# Projeto 1 - Ciência dos Dados"
   ]
  },
  {
   "cell_type": "markdown",
   "metadata": {},
   "source": [
    "Nome:Christian Delfs\n",
    "\n",
    "Nome:Eduardo Zetone\n",
    "\n",
    "Nome: Guilherme Pinheiro\n"
   ]
  },
  {
   "cell_type": "markdown",
   "metadata": {},
   "source": [
    "Atenção: Serão permitidos grupos de três pessoas, mas com uma rubrica mais exigente. Grupos deste tamanho precisarão fazer um questionário de avaliação de trabalho em equipe"
   ]
  },
  {
   "cell_type": "markdown",
   "metadata": {},
   "source": [
    "___\n",
    "Carregando algumas bibliotecas:"
   ]
  },
  {
   "cell_type": "code",
   "execution_count": 1,
   "metadata": {},
   "outputs": [],
   "source": [
    "%matplotlib inline\n",
    "import pandas as pd\n",
    "import matplotlib.pyplot as plt\n",
    "import numpy as np\n",
    "import os\n",
    "import re\n",
    "from math import *\n",
    "import warnings\n",
    "warnings.filterwarnings('ignore')"
   ]
  },
  {
   "cell_type": "markdown",
   "metadata": {},
   "source": [
    "Carregando a base de dados com os tweets classificados como relevantes e não relevantes:"
   ]
  },
  {
   "cell_type": "code",
   "execution_count": 2,
   "metadata": {},
   "outputs": [],
   "source": [
    "filename = 'Heineken.xlsx'"
   ]
  },
  {
   "cell_type": "code",
   "execution_count": 3,
   "metadata": {},
   "outputs": [
    {
     "data": {
      "text/html": [
       "<div>\n",
       "<style scoped>\n",
       "    .dataframe tbody tr th:only-of-type {\n",
       "        vertical-align: middle;\n",
       "    }\n",
       "\n",
       "    .dataframe tbody tr th {\n",
       "        vertical-align: top;\n",
       "    }\n",
       "\n",
       "    .dataframe thead th {\n",
       "        text-align: right;\n",
       "    }\n",
       "</style>\n",
       "<table border=\"1\" class=\"dataframe\">\n",
       "  <thead>\n",
       "    <tr style=\"text-align: right;\">\n",
       "      <th></th>\n",
       "      <th>Treinamento</th>\n",
       "      <th>Relevância</th>\n",
       "    </tr>\n",
       "  </thead>\n",
       "  <tbody>\n",
       "    <tr>\n",
       "      <th>746</th>\n",
       "      <td>que vontade sentar em uma mesa de bar e tomar ...</td>\n",
       "      <td>4</td>\n",
       "    </tr>\n",
       "    <tr>\n",
       "      <th>747</th>\n",
       "      <td>abraçadinha no fardinho de heineken q será dev...</td>\n",
       "      <td>3</td>\n",
       "    </tr>\n",
       "    <tr>\n",
       "      <th>748</th>\n",
       "      <td>12 heineken e minha cabeça já tá doendo.\\nisso...</td>\n",
       "      <td>2</td>\n",
       "    </tr>\n",
       "    <tr>\n",
       "      <th>749</th>\n",
       "      <td>heineken é mt ruim 🤡🤡</td>\n",
       "      <td>0</td>\n",
       "    </tr>\n",
       "    <tr>\n",
       "      <th>750</th>\n",
       "      <td>que vontade de tomar uma #heineken 😍😍</td>\n",
       "      <td>4</td>\n",
       "    </tr>\n",
       "  </tbody>\n",
       "</table>\n",
       "</div>"
      ],
      "text/plain": [
       "                                           Treinamento  Relevância\n",
       "746  que vontade sentar em uma mesa de bar e tomar ...           4\n",
       "747  abraçadinha no fardinho de heineken q será dev...           3\n",
       "748  12 heineken e minha cabeça já tá doendo.\\nisso...           2\n",
       "749                              heineken é mt ruim 🤡🤡           0\n",
       "750              que vontade de tomar uma #heineken 😍😍           4"
      ]
     },
     "execution_count": 3,
     "metadata": {},
     "output_type": "execute_result"
    }
   ],
   "source": [
    "train = pd.read_excel(filename)\n",
    "train.tail()"
   ]
  },
  {
   "cell_type": "code",
   "execution_count": 4,
   "metadata": {},
   "outputs": [
    {
     "data": {
      "text/html": [
       "<div>\n",
       "<style scoped>\n",
       "    .dataframe tbody tr th:only-of-type {\n",
       "        vertical-align: middle;\n",
       "    }\n",
       "\n",
       "    .dataframe tbody tr th {\n",
       "        vertical-align: top;\n",
       "    }\n",
       "\n",
       "    .dataframe thead th {\n",
       "        text-align: right;\n",
       "    }\n",
       "</style>\n",
       "<table border=\"1\" class=\"dataframe\">\n",
       "  <thead>\n",
       "    <tr style=\"text-align: right;\">\n",
       "      <th></th>\n",
       "      <th>Teste</th>\n",
       "      <th>Relevância</th>\n",
       "    </tr>\n",
       "  </thead>\n",
       "  <tbody>\n",
       "    <tr>\n",
       "      <th>246</th>\n",
       "      <td>heineken pior cerveja</td>\n",
       "      <td>0</td>\n",
       "    </tr>\n",
       "    <tr>\n",
       "      <th>247</th>\n",
       "      <td>comigo agora é assim: quer me beijar? me pague...</td>\n",
       "      <td>4</td>\n",
       "    </tr>\n",
       "    <tr>\n",
       "      <th>248</th>\n",
       "      <td>@gugall1 um fardo de heineken e dou pra vocês ...</td>\n",
       "      <td>3</td>\n",
       "    </tr>\n",
       "    <tr>\n",
       "      <th>249</th>\n",
       "      <td>fazendo as contas,bebemos 10 baldes de heineke...</td>\n",
       "      <td>2</td>\n",
       "    </tr>\n",
       "    <tr>\n",
       "      <th>250</th>\n",
       "      <td>heineken é mó boa slc</td>\n",
       "      <td>4</td>\n",
       "    </tr>\n",
       "  </tbody>\n",
       "</table>\n",
       "</div>"
      ],
      "text/plain": [
       "                                                 Teste  Relevância\n",
       "246                              heineken pior cerveja           0\n",
       "247  comigo agora é assim: quer me beijar? me pague...           4\n",
       "248  @gugall1 um fardo de heineken e dou pra vocês ...           3\n",
       "249  fazendo as contas,bebemos 10 baldes de heineke...           2\n",
       "250                              heineken é mó boa slc           4"
      ]
     },
     "execution_count": 4,
     "metadata": {},
     "output_type": "execute_result"
    }
   ],
   "source": [
    "test = pd.read_excel(filename, sheet_name = 'Teste')\n",
    "test.tail(5)"
   ]
  },
  {
   "cell_type": "code",
   "execution_count": 5,
   "metadata": {},
   "outputs": [],
   "source": [
    "train['Treinamento'] = train['Treinamento'].astype('str')"
   ]
  },
  {
   "cell_type": "markdown",
   "metadata": {},
   "source": [
    "___\n",
    "## Classificador automático de sentimento\n"
   ]
  },
  {
   "cell_type": "markdown",
   "metadata": {},
   "source": [
    "Faça aqui uma descrição do seu produto e o que considerou como relevante ou não relevante na classificação dos tweets.\n",
    "\n",
    "ESCREVA AQUI...\n",
    "Heineken é uma cerveja, muito popular no Brasil\n",
    "palavras relevantes:\n",
    "trincando, não da ressaca, bom, saudades, geladinha\n",
    "palavras não relevantes:\n",
    "ruim, caro, merda "
   ]
  },
  {
   "cell_type": "markdown",
   "metadata": {},
   "source": [
    "___\n",
    "### Montando um Classificador Naive-Bayes\n",
    "\n",
    "Considerando apenas as mensagens da planilha Treinamento, ensine  seu classificador."
   ]
  },
  {
   "cell_type": "code",
   "execution_count": 6,
   "metadata": {},
   "outputs": [],
   "source": [
    "# função que \"limpa\" tweets\n",
    "def cleanup(text):\n",
    "    punctuation = '[!-.:?;\"\\n\"()''\"\",_%$\\|/,<>]' \n",
    "    pattern = re.compile(punctuation)\n",
    "    text_subbed = re.sub(pattern, '', text)\n",
    "    filtro = filter(lambda x:x[0]!='@', text_subbed.split())\n",
    "    new = \" \".join(filter(lambda x:x[0]!='@', text_subbed.split()))\n",
    "    return new\n",
    "train['Treinamento'] = train['Treinamento'].apply(cleanup).str.lower()"
   ]
  },
  {
   "cell_type": "code",
   "execution_count": 7,
   "metadata": {},
   "outputs": [],
   "source": [
    "# código que faz com que a coluna de relevância seja uma varíavel qualitativa ordinal\n",
    "train['Relevância'] = train['Relevância'].astype('category')\n",
    "train['Relevância'].cat.categories = ['Muito irrelevante', 'Irrelevante', 'Neutro', 'Relevante', 'Muito relevante']"
   ]
  },
  {
   "cell_type": "code",
   "execution_count": 8,
   "metadata": {},
   "outputs": [],
   "source": [
    "#codigo de filtro\n",
    "muito_relevante = train['Relevância'] == 'Muito relevante'\n",
    "relevante = train['Relevância'] == 'Relevante'\n",
    "neutro = train['Relevância'] == 'Neutro'\n",
    "irrelevante = train['Relevância'] == 'Irrelevante'\n",
    "muito_irrelevante = train['Relevância'] == 'Muito irrelevante'\n",
    "#df dos filtros\n",
    "df_muito_relevante = train.loc[muito_relevante, :]\n",
    "df_relevante = train.loc[relevante, :]\n",
    "df_neutro = train.loc[neutro, :]\n",
    "df_irrelevante = train.loc[irrelevante, :]\n",
    "df_muito_irrelevante = train.loc[muito_irrelevante, :]\n",
    "tudo=[df_muito_relevante['Treinamento'],df_relevante['Treinamento'],df_neutro['Treinamento'],df_irrelevante['Treinamento'],df_muito_irrelevante['Treinamento']]"
   ]
  },
  {
   "cell_type": "code",
   "execution_count": 9,
   "metadata": {},
   "outputs": [],
   "source": [
    "#código que separa os df em listas de tweets e em lista de palavras\n",
    "tweets_muito_rel = []\n",
    "tweets_rel = []\n",
    "tweets_neu = []\n",
    "tweets_irr = []\n",
    "tweets_muito_irr = []\n",
    "tudo2=[tweets_muito_rel,tweets_rel,tweets_neu,tweets_irr,tweets_muito_irr]\n",
    "Todo= []\n",
    "Mundo = []\n",
    "Odeia = []\n",
    "O= []\n",
    "Chris = []\n",
    "tudo3=[Todo,Mundo,Odeia,O,Chris]\n",
    "i=0\n",
    "while i<len(tudo):\n",
    "    for a in tudo[i]:\n",
    "        tudo2[i].append(a.split(' '))\n",
    "    i+=1\n",
    "ded=0\n",
    "while ded<len(tudo2):\n",
    "    for Eduzin in tudo2[ded]:\n",
    "         tudo3[ded]+= Eduzin\n",
    "    ded+=1\n",
    "#código que tranforma lista em pd.series\n",
    "serie_muito_relevante=pd.Series(Todo)\n",
    "serie_relevante=pd.Series(Mundo)\n",
    "serie_neutro=pd.Series(Odeia)\n",
    "serie_irrelevante=pd.Series(O)\n",
    "serie_muito_irrelevante=pd.Series(Chris)"
   ]
  },
  {
   "cell_type": "code",
   "execution_count": 10,
   "metadata": {},
   "outputs": [],
   "source": [
    "#variante Laplace Smoothing\n",
    "alpha = 1\n",
    "# 1e3 é um chute do número de palavras que não foram utilizadas em nenhum tweet\n",
    "chute= 1e3"
   ]
  },
  {
   "cell_type": "code",
   "execution_count": 11,
   "metadata": {},
   "outputs": [],
   "source": [
    "# Frequências absolutas e relativas das palavras\n",
    "absoluta_mr = serie_muito_relevante.value_counts() \n",
    "relativa_mr = (absoluta_mr + alpha)/(absoluta_mr.sum() + (alpha*chute))\n",
    "\n",
    "absoluta_r = serie_relevante.value_counts() \n",
    "relativa_r = (absoluta_r + alpha)/(absoluta_r.sum() + (alpha*chute))\n",
    "\n",
    "absoluta_n = serie_neutro.value_counts() \n",
    "relativa_n = (absoluta_n + alpha)/(absoluta_n.sum() + (alpha*chute))\n",
    "\n",
    "absoluta_i = serie_irrelevante.value_counts() \n",
    "relativa_i = (absoluta_i + alpha)/(absoluta_i.sum() + (alpha*chute)) \n",
    "\n",
    "absoluta_mi = serie_muito_irrelevante.value_counts() \n",
    "relativa_mi = (absoluta_mi + alpha)/(absoluta_mi.sum() + (alpha*chute))\n",
    "tudo3=[absoluta_mr,absoluta_r,absoluta_n,absoluta_i,absoluta_mi]\n",
    "tudo4=[relativa_mr,relativa_r,relativa_n,relativa_i,relativa_mi]"
   ]
  },
  {
   "cell_type": "code",
   "execution_count": 12,
   "metadata": {},
   "outputs": [],
   "source": [
    "# probabilidade de cada relevância\n",
    "prob_mr = len(tweets_muito_rel) / len(train[\"Treinamento\"])\n",
    "prob_r = len(tweets_rel) / len(train[\"Treinamento\"])\n",
    "prob_n = len(tweets_neu) / len(train[\"Treinamento\"])\n",
    "prob_i = len(tweets_irr) / len(train[\"Treinamento\"])\n",
    "prob_mi = len(tweets_muito_irr) / len(train[\"Treinamento\"])\n",
    "tudo5=[prob_mr,prob_r,prob_n,prob_i,prob_mi]"
   ]
  },
  {
   "cell_type": "code",
   "execution_count": 13,
   "metadata": {},
   "outputs": [],
   "source": [
    "#função que mostra a probabilidade de uma frase ter certa relevância, tendo em vista as palavras presentes nela\n",
    "def funça(frase):\n",
    "    frase = frase.split(' ')\n",
    "    mr = 1\n",
    "    r = 1\n",
    "    n = 1\n",
    "    i = 1\n",
    "    mi = 1\n",
    "    tudo6=[mr,r,n,i,mi]  \n",
    "    mr_ = 1\n",
    "    r_ = 1\n",
    "    n_ = 1\n",
    "    i_ = 1\n",
    "    mi_ = 1\n",
    "    tudo8=[mr_,r_,n_,i_,mi_]\n",
    "    tudo9=['Muito relevante','Relevante','Neutro','Irrelevante','Muito irrelevante']   \n",
    "    for palavra in frase:\n",
    "        for a in range(5):\n",
    "            if palavra in tudo4[a]:\n",
    "                tudo6[a] *= tudo4[a][palavra]\n",
    "            elif palavra not in tudo4[a]:\n",
    "                tudo6[a] *= (alpha/(tudo3[a].sum() + (alpha*chute)))\n",
    "    for a in range(5):\n",
    "        tudo8[a]=(tudo6[a])*(tudo5[a])\n",
    "    for b in range(5):\n",
    "        if max(log(tudo8[0], 10), log(tudo8[1], 10), log(tudo8[2], 10), log(tudo8[3], 10),  log(tudo8[4], 10)) == log(tudo8[b], 10):\n",
    "            return tudo9[b]"
   ]
  },
  {
   "cell_type": "code",
   "execution_count": 14,
   "metadata": {},
   "outputs": [
    {
     "data": {
      "text/plain": [
       "0            Irrelevante\n",
       "1                 Neutro\n",
       "2      Muito irrelevante\n",
       "3        Muito relevante\n",
       "4        Muito relevante\n",
       "             ...        \n",
       "746      Muito relevante\n",
       "747            Relevante\n",
       "748               Neutro\n",
       "749    Muito irrelevante\n",
       "750      Muito relevante\n",
       "Name: Classificacao, Length: 751, dtype: object"
      ]
     },
     "execution_count": 14,
     "metadata": {},
     "output_type": "execute_result"
    }
   ],
   "source": [
    "# aplicando a função\n",
    "train['Classificacao'] = train['Treinamento'].apply(funça)\n",
    "train['Classificacao']"
   ]
  },
  {
   "cell_type": "code",
   "execution_count": 15,
   "metadata": {},
   "outputs": [
    {
     "data": {
      "text/html": [
       "<div>\n",
       "<style scoped>\n",
       "    .dataframe tbody tr th:only-of-type {\n",
       "        vertical-align: middle;\n",
       "    }\n",
       "\n",
       "    .dataframe tbody tr th {\n",
       "        vertical-align: top;\n",
       "    }\n",
       "\n",
       "    .dataframe thead th {\n",
       "        text-align: right;\n",
       "    }\n",
       "</style>\n",
       "<table border=\"1\" class=\"dataframe\">\n",
       "  <thead>\n",
       "    <tr style=\"text-align: right;\">\n",
       "      <th>Classificacao</th>\n",
       "      <th>Irrelevante</th>\n",
       "      <th>Muito irrelevante</th>\n",
       "      <th>Muito relevante</th>\n",
       "      <th>Neutro</th>\n",
       "      <th>Relevante</th>\n",
       "    </tr>\n",
       "    <tr>\n",
       "      <th>Relevância</th>\n",
       "      <th></th>\n",
       "      <th></th>\n",
       "      <th></th>\n",
       "      <th></th>\n",
       "      <th></th>\n",
       "    </tr>\n",
       "  </thead>\n",
       "  <tbody>\n",
       "    <tr>\n",
       "      <th>Muito irrelevante</th>\n",
       "      <td>0.001332</td>\n",
       "      <td>0.138482</td>\n",
       "      <td>0.010652</td>\n",
       "      <td>0.003995</td>\n",
       "      <td>0.005326</td>\n",
       "    </tr>\n",
       "    <tr>\n",
       "      <th>Irrelevante</th>\n",
       "      <td>0.037284</td>\n",
       "      <td>0.001332</td>\n",
       "      <td>0.003995</td>\n",
       "      <td>0.006658</td>\n",
       "      <td>0.003995</td>\n",
       "    </tr>\n",
       "    <tr>\n",
       "      <th>Neutro</th>\n",
       "      <td>0.000000</td>\n",
       "      <td>0.001332</td>\n",
       "      <td>0.014647</td>\n",
       "      <td>0.121172</td>\n",
       "      <td>0.006658</td>\n",
       "    </tr>\n",
       "    <tr>\n",
       "      <th>Relevante</th>\n",
       "      <td>0.001332</td>\n",
       "      <td>0.001332</td>\n",
       "      <td>0.027963</td>\n",
       "      <td>0.005326</td>\n",
       "      <td>0.201065</td>\n",
       "    </tr>\n",
       "    <tr>\n",
       "      <th>Muito relevante</th>\n",
       "      <td>0.002663</td>\n",
       "      <td>0.001332</td>\n",
       "      <td>0.388815</td>\n",
       "      <td>0.001332</td>\n",
       "      <td>0.011984</td>\n",
       "    </tr>\n",
       "  </tbody>\n",
       "</table>\n",
       "</div>"
      ],
      "text/plain": [
       "Classificacao      Irrelevante  Muito irrelevante  Muito relevante    Neutro  \\\n",
       "Relevância                                                                     \n",
       "Muito irrelevante     0.001332           0.138482         0.010652  0.003995   \n",
       "Irrelevante           0.037284           0.001332         0.003995  0.006658   \n",
       "Neutro                0.000000           0.001332         0.014647  0.121172   \n",
       "Relevante             0.001332           0.001332         0.027963  0.005326   \n",
       "Muito relevante       0.002663           0.001332         0.388815  0.001332   \n",
       "\n",
       "Classificacao      Relevante  \n",
       "Relevância                    \n",
       "Muito irrelevante   0.005326  \n",
       "Irrelevante         0.003995  \n",
       "Neutro              0.006658  \n",
       "Relevante           0.201065  \n",
       "Muito relevante     0.011984  "
      ]
     },
     "execution_count": 15,
     "metadata": {},
     "output_type": "execute_result"
    }
   ],
   "source": [
    "# tabela crosstab entre a classificação feitas pelo robo e a da nossa equipe\n",
    "tabela = pd.crosstab(train['Relevância'], train['Classificacao'], normalize='all')\n",
    "tabela"
   ]
  },
  {
   "cell_type": "code",
   "execution_count": 16,
   "metadata": {},
   "outputs": [
    {
     "data": {
      "text/plain": [
       "'88.682%'"
      ]
     },
     "execution_count": 16,
     "metadata": {},
     "output_type": "execute_result"
    }
   ],
   "source": [
    "#eficácia\n",
    "f'{(tabela.iloc[0,1] + tabela.iloc[1,0] + tabela.iloc[2,3] + tabela.iloc[3,4] + tabela.iloc[4,2])*100:.5g}%'"
   ]
  },
  {
   "cell_type": "markdown",
   "metadata": {},
   "source": [
    "___\n",
    "### Verificando a performance do Classificador\n",
    "\n",
    "Agora você deve testar o seu classificador com a base de Testes."
   ]
  },
  {
   "cell_type": "code",
   "execution_count": 17,
   "metadata": {},
   "outputs": [],
   "source": [
    "test = pd.read_excel(filename, sheet_name = 'Teste')\n",
    "test['Teste'] = test['Teste'].astype('str').apply(cleanup).str.lower()"
   ]
  },
  {
   "cell_type": "code",
   "execution_count": 18,
   "metadata": {},
   "outputs": [],
   "source": [
    "# código que faz com que a coluna de relevância seja uma varíavel qualitativa ordinal\n",
    "test['Relevância'] = test['Relevância'].astype('category')\n",
    "test['Relevância'].cat.categories = ['Muito irrelevante', 'Irrelevante', 'Neutro', 'Relevante', 'Muito relevante']\n",
    "# aplicando a função\n",
    "test['Classificador'] = test['Teste'].apply(funça)"
   ]
  },
  {
   "cell_type": "code",
   "execution_count": 21,
   "metadata": {},
   "outputs": [
    {
     "data": {
      "text/html": [
       "<div>\n",
       "<style scoped>\n",
       "    .dataframe tbody tr th:only-of-type {\n",
       "        vertical-align: middle;\n",
       "    }\n",
       "\n",
       "    .dataframe tbody tr th {\n",
       "        vertical-align: top;\n",
       "    }\n",
       "\n",
       "    .dataframe thead th {\n",
       "        text-align: right;\n",
       "    }\n",
       "</style>\n",
       "<table border=\"1\" class=\"dataframe\">\n",
       "  <thead>\n",
       "    <tr style=\"text-align: right;\">\n",
       "      <th>Classificador</th>\n",
       "      <th>Irrelevante</th>\n",
       "      <th>Muito irrelevante</th>\n",
       "      <th>Muito relevante</th>\n",
       "      <th>Neutro</th>\n",
       "      <th>Relevante</th>\n",
       "    </tr>\n",
       "    <tr>\n",
       "      <th>Relevância</th>\n",
       "      <th></th>\n",
       "      <th></th>\n",
       "      <th></th>\n",
       "      <th></th>\n",
       "      <th></th>\n",
       "    </tr>\n",
       "  </thead>\n",
       "  <tbody>\n",
       "    <tr>\n",
       "      <th>Muito irrelevante</th>\n",
       "      <td>0.031873</td>\n",
       "      <td>0.071713</td>\n",
       "      <td>0.067729</td>\n",
       "      <td>0.055777</td>\n",
       "      <td>0.043825</td>\n",
       "    </tr>\n",
       "    <tr>\n",
       "      <th>Irrelevante</th>\n",
       "      <td>0.011952</td>\n",
       "      <td>0.023904</td>\n",
       "      <td>0.027888</td>\n",
       "      <td>0.015936</td>\n",
       "      <td>0.039841</td>\n",
       "    </tr>\n",
       "    <tr>\n",
       "      <th>Neutro</th>\n",
       "      <td>0.027888</td>\n",
       "      <td>0.027888</td>\n",
       "      <td>0.091633</td>\n",
       "      <td>0.011952</td>\n",
       "      <td>0.043825</td>\n",
       "    </tr>\n",
       "    <tr>\n",
       "      <th>Relevante</th>\n",
       "      <td>0.011952</td>\n",
       "      <td>0.019920</td>\n",
       "      <td>0.115538</td>\n",
       "      <td>0.019920</td>\n",
       "      <td>0.059761</td>\n",
       "    </tr>\n",
       "    <tr>\n",
       "      <th>Muito relevante</th>\n",
       "      <td>0.000000</td>\n",
       "      <td>0.011952</td>\n",
       "      <td>0.127490</td>\n",
       "      <td>0.007968</td>\n",
       "      <td>0.031873</td>\n",
       "    </tr>\n",
       "  </tbody>\n",
       "</table>\n",
       "</div>"
      ],
      "text/plain": [
       "Classificador      Irrelevante  Muito irrelevante  Muito relevante    Neutro  \\\n",
       "Relevância                                                                     \n",
       "Muito irrelevante     0.031873           0.071713         0.067729  0.055777   \n",
       "Irrelevante           0.011952           0.023904         0.027888  0.015936   \n",
       "Neutro                0.027888           0.027888         0.091633  0.011952   \n",
       "Relevante             0.011952           0.019920         0.115538  0.019920   \n",
       "Muito relevante       0.000000           0.011952         0.127490  0.007968   \n",
       "\n",
       "Classificador      Relevante  \n",
       "Relevância                    \n",
       "Muito irrelevante   0.043825  \n",
       "Irrelevante         0.039841  \n",
       "Neutro              0.043825  \n",
       "Relevante           0.059761  \n",
       "Muito relevante     0.031873  "
      ]
     },
     "execution_count": 21,
     "metadata": {},
     "output_type": "execute_result"
    }
   ],
   "source": [
    "# tabela crosstab entre a classificação fitas pelo robo e a da nossa equipe\n",
    "Tabela = pd.crosstab(test['Relevância'], test['Classificador'], normalize='all')\n",
    "Tabela"
   ]
  },
  {
   "cell_type": "code",
   "execution_count": 24,
   "metadata": {},
   "outputs": [
    {
     "data": {
      "text/plain": [
       "'O acerto do nosso classificador foi de: 28.287%'"
      ]
     },
     "execution_count": 24,
     "metadata": {},
     "output_type": "execute_result"
    }
   ],
   "source": [
    "#eficácia\n",
    "f'O acerto do nosso classificador foi de: {(Tabela.iloc[0,1]+Tabela.iloc[1,0]+Tabela.iloc[2,3]+Tabela.iloc[3,4]+Tabela.iloc[4,2])*100:.5g}%'"
   ]
  },
  {
   "cell_type": "markdown",
   "metadata": {},
   "source": [
    "___\n",
    "### Concluindo"
   ]
  },
  {
   "cell_type": "markdown",
   "metadata": {},
   "source": [
    "### Por que não posso usar o próprio classificador para gerar mais amostras de treinamento?"
   ]
  },
  {
   "cell_type": "markdown",
   "metadata": {},
   "source": [
    "Não podemos usar o nosso classificador para gerar mais amostras de treinamento porque foi feito a partir das classificações de treinamento. Assim a eficácia do classificador se mostra ser muito alta, não condizendo com a realidade, já que os tweets que serão classificados geraram os 'padrões' que criaram o classifcador."
   ]
  },
  {
   "cell_type": "markdown",
   "metadata": {},
   "source": [
    "### Diferentes cenários para Naïve Bayes fora do contexto do projeto\n"
   ]
  },
  {
   "cell_type": "markdown",
   "metadata": {},
   "source": [
    "O classificador Naïve-Bayes também pode ser usado para saber a rejeição de uma pessoa, por exemplo quando um famoso vai para o BBB e é julgado por pessoas do lado de fora da casa, através das classificações das mensagens que o mencionam em qualquer rede social. De modo geral, o classificador Naïve-Bayes pode ser muito útil para realizar uma análise automática de sentimento relacionada a qualquer produto, marca ou pessoa. É uma maneira de obter feedbacks de forma informal, sincera e aleatória."
   ]
  },
  {
   "cell_type": "markdown",
   "metadata": {},
   "source": [
    "### Melhorias possíveis para o classificador Naïve-Bayes\n"
   ]
  },
  {
   "cell_type": "markdown",
   "metadata": {},
   "source": [
    "Considerando a ordem em que as palavras aparecem na frase e a probabilidade de certas sequências de palavras, podemos obter uma classificação mais realista. Com isso, podemos analisar a relevância, positividade e categorias negativas da mensagem pela probabilidade de que uma determinada sequência se enquadre em qualquer um desses cenários."
   ]
  },
  {
   "cell_type": "markdown",
   "metadata": {},
   "source": [
    "___\n",
    "### Qualidade do Classificador a partir de novas separações dos tweets entre Treinamento e Teste\n",
    "\n",
    "Caso for fazer esse item do Projeto"
   ]
  },
  {
   "cell_type": "code",
   "execution_count": null,
   "metadata": {},
   "outputs": [],
   "source": []
  },
  {
   "cell_type": "code",
   "execution_count": null,
   "metadata": {},
   "outputs": [],
   "source": []
  },
  {
   "cell_type": "code",
   "execution_count": null,
   "metadata": {},
   "outputs": [],
   "source": []
  },
  {
   "cell_type": "markdown",
   "metadata": {},
   "source": [
    "___\n",
    "## Aperfeiçoamento:\n",
    "\n",
    "Trabalhos que conseguirem pelo menos conceito B vão evoluir em conceito dependendo da quantidade de itens avançados:\n",
    "\n",
    "* IMPLEMENTOU outras limpezas e transformações que não afetem a qualidade da informação contida nos tweets. Ex: stemming, lemmatization, stopwords\n",
    "* CORRIGIU separação de espaços entre palavras e emojis ou entre emojis e emojis\n",
    "* CRIOU categorias intermediárias de relevância baseadas na probabilidade: ex.: muito relevante, relevante, neutro, irrelevante, muito irrelevante. Pelo menos quatro categorias, com adição de mais tweets na base, conforme enunciado. (OBRIGATÓRIO PARA TRIOS, sem contar como item avançado)\n",
    "* EXPLICOU porquê não pode usar o próprio classificador para gerar mais amostras de treinamento\n",
    "* PROPÔS diferentes cenários para Naïve Bayes fora do contexto do projeto\n",
    "* SUGERIU e EXPLICOU melhorias reais com indicações concretas de como implementar (indicar como fazer e indicar material de pesquisa)\n",
    "* FEZ o item 6. Qualidade do Classificador a partir de novas separações dos tweets entre Treinamento e Teste descrito no enunciado do projeto (OBRIGATÓRIO para conceitos A ou A+)"
   ]
  },
  {
   "cell_type": "markdown",
   "metadata": {},
   "source": [
    "___\n",
    "## Referências"
   ]
  },
  {
   "cell_type": "markdown",
   "metadata": {},
   "source": [
    "[Naive Bayes and Text Classification](https://arxiv.org/pdf/1410.5329.pdf)  **Mais completo**\n",
    "\n",
    "[A practical explanation of a Naive Bayes Classifier](https://monkeylearn.com/blog/practical-explanation-naive-bayes-classifier/) **Mais simples**"
   ]
  },
  {
   "cell_type": "code",
   "execution_count": null,
   "metadata": {},
   "outputs": [],
   "source": []
  }
 ],
 "metadata": {
  "kernelspec": {
   "display_name": "Python 3",
   "language": "python",
   "name": "python3"
  },
  "language_info": {
   "codemirror_mode": {
    "name": "ipython",
    "version": 3
   },
   "file_extension": ".py",
   "mimetype": "text/x-python",
   "name": "python",
   "nbconvert_exporter": "python",
   "pygments_lexer": "ipython3",
   "version": "3.8.5"
  }
 },
 "nbformat": 4,
 "nbformat_minor": 4
}
